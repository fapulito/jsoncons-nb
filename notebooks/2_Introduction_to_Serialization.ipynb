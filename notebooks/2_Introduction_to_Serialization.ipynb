{
 "cells": [
  {
   "cell_type": "markdown",
   "metadata": {},
   "source": [
    "# Notebook 1: Introduction to Serializable Dictionaries in Python\n",
    "\n",
    "Welcome! This notebook introduces the fundamental concept of dictionary serialization in Python.\n",
    "\n",
    "Dictionaries are incredibly versatile, but they exist only in memory while your script runs. Serialization lets us convert these dictionaries into formats that can be saved to files or sent across networks, allowing for data persistence, configuration management, and much more.\n",
    "\n",
    "**Learning Objectives:**\n",
    "*   Understand what serialization and deserialization mean.\n",
    "*   Learn why serializing dictionaries is useful.\n",
    "*   Explore common serialization formats: JSON, Pickle, YAML, and MessagePack.\n",
    "*   See basic examples of serializing and deserializing dictionaries using `json` and `pickle`."
   ]
  },
  {
   "cell_type": "markdown",
   "metadata": {},
   "source": [
    "## Part 1: Understanding Dictionary Serialization in Python\n",
    "\n",
    "Serialization is the process of converting a data object (like a Python dictionary) into a format that can be stored (e.g., in a file) or transmitted (e.g., over a network). Deserialization is the reverse process: reconstructing the original object from the serialized format.\n",
    "\n",
    "This is essential when you need to:\n",
    "\n",
    "*   Save application state to disk\n",
    "*   Transfer data between different systems\n",
    "*   Cache computation results\n",
    "*   Store configuration settings\n",
    "*   Exchange data between different programming languages\n",
    "\n",
    "Python dictionaries map naturally to common formats like JSON, but handling nested structures or complex data types requires specific approaches."
   ]
  },
  {
   "cell_type": "markdown",
   "metadata": {},
   "source": [
    "### Why Serialize Dictionaries?\n",
    "\n",
    "In-memory dictionaries vanish when your program ends. Serialization gives them permanence.\n",
    "\n",
    "1.  **Data Persistence**: Save dictionaries to files for later retrieval.\n",
    "2.  **Data Exchange**: Transfer dictionary data between systems or applications.\n",
    "3.  **Caching**: Store results of heavy computations to speed up future requests.\n",
    "4.  **Configuration Management**: Easily save and load application settings.\n",
    "5.  **API Communication**: Send and receive structured data (often as JSON) via web APIs."
   ]
  },
  {
   "cell_type": "markdown",
   "metadata": {},
   "source": [
    "### Common Serialization Formats\n",
    "\n",
    "Python offers several libraries for serialization. Let's look at the most common ones."
   ]
  },
  {
   "cell_type": "markdown",
   "metadata": {},
   "source": [
    "**1. JSON (JavaScript Object Notation)**\n",
    "\n",
    "JSON is lightweight, human-readable, and excellent for basic Python types (strings, numbers, lists, bools, nulls, nested dicts/lists). It's the standard for web APIs.\n",
    "\n",
    "*Limitations:* Cannot directly handle complex types like sets, custom objects, dates, or binary data."
   ]
  },
  {
   "cell_type": "code",
   "execution_count": null,
   "metadata": {},
   "outputs": [],
   "source": [
    "import json\n",
    "from pprint import pprint # For pretty printing output\n",
    "\n",
    "# Our sample dictionary\n",
    "my_dict = {'name': 'Alice', 'age': 30, 'city': 'New York', 'is_student': False, 'courses': None, 'skills': ['Python', 'Data Science']}\n",
    "\n",
    "print(\"Original Dictionary:\")\n",
    "pprint(my_dict)\n",
    "\n",
    "# --- Serialization (Dictionary to JSON string) ---\n",
    "# Use dumps() to serialize to a string\n",
    "# `indent=2` makes the output human-readable\n",
    "json_string = json.dumps(my_dict, indent=2)\n",
    "\n",
    "print(\"\\nSerialized JSON String:\")\n",
    "print(json_string)\n",
    "print(f\"Type of serialized data: {type(json_string)}\")\n",
    "\n",
    "# --- Deserialization (JSON string to Dictionary) ---\n",
    "# Use loads() to deserialize from a string\n",
    "reconstructed_dict = json.loads(json_string)\n",
    "\n",
    "print(\"\\nReconstructed Dictionary:\")\n",
    "pprint(reconstructed_dict)\n",
    "print(f\"Type of reconstructed data: {type(reconstructed_dict)}\")\n",
    "\n",
    "# Verify it's the same\n",
    "assert my_dict == reconstructed_dict"
   ]
  },
  {
   "cell_type": "markdown",
   "metadata": {},
   "source": [
    "**2. Pickle**\n",
    "\n",
    "Pickle is Python's native serialization format. It can handle almost *any* Python object, including custom classes, functions (with caveats), sets, dates, etc.\n",
    "\n",
    "*Limitations:* The output is binary (not human-readable) and Python-specific. **Crucially, unpickling data from untrusted sources is a security risk** because it can execute arbitrary code."
   ]
  },
  {
   "cell_type": "code",
   "execution_count": null,
   "metadata": {},
   "outputs": [],
   "source": [
    "import pickle\n",
    "from datetime import datetime\n",
    "\n",
    "# A more complex dictionary\n",
    "complex_dict = {\n",
    "    'data': [1, 2, 3],\n",
    "    'metadata': {'source': 'sensor', 'timestamp': datetime.now()},\n",
    "    'unique_ids': {101, 102, 103} # A set - JSON cannot handle this directly\n",
    "}\n",
    "\n",
    "print(\"Original Complex Dictionary:\")\n",
    "pprint(complex_dict)\n",
    "\n",
    "# --- Serialization (Dictionary to bytes) ---\n",
    "# Use dumps() to serialize to a bytes object\n",
    "serialized_pickle = pickle.dumps(complex_dict)\n",
    "\n",
    "print(\"\\nSerialized Pickle Data (bytes):\")\n",
    "# print(serialized_pickle) # This is binary, not very readable\n",
    "print(f\"Type of serialized data: {type(serialized_pickle)}\")\n",
    "print(f\"Size of serialized data: {len(serialized_pickle)} bytes\")\n",
    "\n",
    "# --- Deserialization (bytes to Dictionary) ---\n",
    "# Use loads() to deserialize from bytes\n",
    "deserialized_dict = pickle.loads(serialized_pickle)\n",
    "\n",
    "print(\"\\nReconstructed Dictionary:\")\n",
    "pprint(deserialized_dict)\n",
    "print(f\"Type of reconstructed data: {type(deserialized_dict)}\")\n",
    "\n",
    "# Verify it's the same\n",
    "assert complex_dict == deserialized_dict"
   ]
  },
  {
   "cell_type": "markdown",
   "metadata": {},
   "source": [
    "**3. YAML (YAML Ain't Markup Language)**\n",
    "\n",
    "YAML is often considered more human-readable than JSON. It supports comments, anchors/aliases (for repeated structures), and more complex data types.\n",
    "\n",
    "*Requires Installation:* `pip install pyyaml`"
   ]
  },
  {
   "cell_type": "code",
   "execution_count": null,
   "metadata": {},
   "outputs": [],
   "source": [
    "pip install pyyaml"
   ]
  },
  {
   "cell_type": "code",
   "execution_count": null,
   "metadata": {},
   "outputs": [],
   "source": [
    "# Note: You need to install PyYAML first: pip install pyyaml\n",
    "try:\n",
    "    import yaml\n",
    "    \n",
    "    config_dict = {\n",
    "        'server': {\n",
    "            'host': 'localhost', \n",
    "            'port': 8080\n",
    "        }, \n",
    "        'debug': True, \n",
    "        'features': ['auth', 'logging']\n",
    "    }\n",
    "    \n",
    "    print(\"Original Config Dictionary:\")\n",
    "    pprint(config_dict)\n",
    "    \n",
    "    # --- Serialization (Dictionary to YAML string) ---\n",
    "    # Use dump() to serialize to a string (default_flow_style=False makes it block style)\n",
    "    yaml_string = yaml.dump(config_dict, default_flow_style=False)\n",
    "    \n",
    "    print(\"\\nSerialized YAML String:\")\n",
    "    print(yaml_string)\n",
    "    print(f\"Type of serialized data: {type(yaml_string)}\")\n",
    "    \n",
    "    # --- Deserialization (YAML string to Dictionary) ---\n",
    "    # Use safe_load() for untrusted input (important!)\n",
    "    loaded_config = yaml.safe_load(yaml_string)\n",
    "    \n",
    "    print(\"\\nReconstructed Dictionary:\")\n",
    "    pprint(loaded_config)\n",
    "    print(f\"Type of reconstructed data: {type(loaded_config)}\")\n",
    "    \n",
    "    assert config_dict == loaded_config\n",
    "    \n",
    "except ImportError:\n",
    "    print(\"PyYAML not installed. Run 'pip install pyyaml' to run this cell.\")"
   ]
  },
  {
   "cell_type": "markdown",
   "metadata": {},
   "source": [
    "**4. MessagePack**\n",
    "\n",
    "MessagePack is a binary serialization format like Pickle, but designed to be faster and more compact than JSON. It's often used for performance-critical applications or inter-process communication.\n",
    "\n",
    "*Requires Installation:* `pip install msgpack-python`"
   ]
  },
  {
   "cell_type": "code",
   "execution_count": null,
   "metadata": {},
   "outputs": [],
   "source": [
    "pip install msgpack-python"
   ]
  },
  {
   "cell_type": "code",
   "execution_count": null,
   "metadata": {},
   "outputs": [],
   "source": [
    "# Note: You need to install MessagePack first: pip install msgpack-python\n",
    "try:\n",
    "    import msgpack\n",
    "    \n",
    "    data_dict = {'values': [1, 2, 3, 4, 5], 'metadata': {'source': 'sensor', 'active': True}}\n",
    "    \n",
    "    print(\"Original Data Dictionary:\")\n",
    "    pprint(data_dict)\n",
    "    \n",
    "    # --- Serialization (Dictionary to bytes) ---\n",
    "    # Use packb() to serialize to bytes\n",
    "    packed_data = msgpack.packb(data_dict)\n",
    "    \n",
    "    print(\"\\nSerialized MessagePack Data (bytes):\")\n",
    "    # print(packed_data) # Binary, not very readable\n",
    "    print(f\"Type of serialized data: {type(packed_data)}\")\n",
    "    print(f\"Size of serialized data: {len(packed_data)} bytes\")\n",
    "    \n",
    "    # --- Deserialization (bytes to Dictionary) ---\n",
    "    # Use unpackb() to deserialize from bytes\n",
    "    # raw=False ensures strings are decoded to Python strings (default)\n",
    "    unpacked_data = msgpack.unpackb(packed_data, raw=False)\n",
    "    \n",
    "    print(\"\\nReconstructed Dictionary:\")\n",
    "    pprint(unpacked_data)\n",
    "    print(f\"Type of reconstructed data: {type(unpacked_data)}\")\n",
    "\n",
    "    assert data_dict == unpacked_data\n",
    "\n",
    "except ImportError:\n",
    "    print(\"msgpack not installed. Run 'pip install msgpack-python' to run this cell.\")"
   ]
  },
  {
   "cell_type": "markdown",
   "metadata": {},
   "source": [
    "### Summary\n",
    "\n",
    "We've seen the basics of serializing Python dictionaries using common formats:\n",
    "\n",
    "*   **JSON**: Human-readable, great for web, limited types.\n",
    "*   **Pickle**: Python-specific, handles almost anything, binary, potential security risks.\n",
    "*   **YAML**: Very readable, good for config, requires install.\n",
    "*   **MessagePack**: Fast, compact, binary, requires install.\n",
    "\n",
    "Choosing the right format depends on your needs: readability, compatibility, performance, and the types of data in your dictionaries.\n",
    "\n",
    "**Next Steps:** In the next notebook, we'll dive into handling more complex scenarios like custom objects and optimizing performance."
   ]
  }
 ],
 "metadata": {
  "kernelspec": {
   "display_name": ".venv",
   "language": "python",
   "name": "python3"
  },
  "language_info": {
   "codemirror_mode": {
    "name": "ipython",
    "version": 3
   },
   "file_extension": ".py",
   "mimetype": "text/x-python",
   "name": "python",
   "nbconvert_exporter": "python",
   "pygments_lexer": "ipython3",
   "version": "3.12.2"
  }
 },
 "nbformat": 4,
 "nbformat_minor": 4
}
