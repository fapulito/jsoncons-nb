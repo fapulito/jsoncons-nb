{
 "cells": [
  {
   "cell_type": "markdown",
   "metadata": {},
   "source": [
    "# Tutorial: Converting COBOL Data to JSON using `jsoncons`\n",
    "\n",
    "This notebook demonstrates how to use the `cobol_to_json` command added in `jsoncons` v1.0.0 to convert traditional fixed-width COBOL data files into structured JSON format.\n",
    "\n",
    "**Goal:** Transform a text file containing customer records in a fixed-width format, defined by a COBOL-like layout, into a JSON array of objects.\n",
    "\n",
    "**Prerequisites:**\n",
    "*   Python 3.7+\n",
    "*   `jsoncons` version 1.0.0 or later installed (`pip install --upgrade jsoncons`)"
   ]
  },
  {
   "cell_type": "markdown",
   "metadata": {},
   "source": [
    "## Step 1: Example COBOL Data File\n",
    "\n",
    "Imagine we have a file (`customer_data.txt`) where each line represents a customer record. The data is fixed-width, meaning each field occupies specific columns.\n",
    "\n",
    "Let's create this sample file:"
   ]
  },
  {
   "cell_type": "code",
   "execution_count": 13,
   "metadata": {},
   "outputs": [
    {
     "name": "stdout",
     "output_type": "stream",
     "text": [
      "Looking in indexes: https://test.pypi.org/simple/\n",
      "Collecting jsoncons==1.0.1\n",
      "  Downloading https://test-files.pythonhosted.org/packages/d7/38/a6c645fbbfbb01bbc18340b4cd05e8aac2a562af6d248314ffd481e063b9/jsoncons-1.0.1-py3-none-any.whl.metadata (7.5 kB)\n",
      "Downloading https://test-files.pythonhosted.org/packages/d7/38/a6c645fbbfbb01bbc18340b4cd05e8aac2a562af6d248314ffd481e063b9/jsoncons-1.0.1-py3-none-any.whl (12 kB)\n",
      "Installing collected packages: jsoncons\n",
      "  Attempting uninstall: jsoncons\n",
      "    Found existing installation: jsoncons 1.0.0\n",
      "    Uninstalling jsoncons-1.0.0:\n",
      "      Successfully uninstalled jsoncons-1.0.0\n",
      "Successfully installed jsoncons-1.0.1\n",
      "Note: you may need to restart the kernel to use updated packages.\n"
     ]
    }
   ],
   "source": [
    "pip install -i https://test.pypi.org/simple/ jsoncons==1.0.1"
   ]
  },
  {
   "cell_type": "code",
   "execution_count": 14,
   "metadata": {},
   "outputs": [
    {
     "name": "stdout",
     "output_type": "stream",
     "text": [
      "Created customer_data.txt:\n",
      "00101Alice Smith              000015075+A1\n",
      "00102Bob Johnson              000000000{N2\n",
      "00103Charlie Brown            000123450-R1\n",
      "00104Diana Davis              000009900+A1\n"
     ]
    }
   ],
   "source": [
    "cobol_data = \"\"\"\\\n",
    "00101Alice Smith              000015075+A1\\n\\\n",
    "00102Bob Johnson              000000000{N2\\n\\\n",
    "00103Charlie Brown            000123450-R1\\n\\\n",
    "00104Diana Davis              000009900+A1\\\n",
    "\"\"\" # Note: The last line has no newline character in the string value due to trailing \\\n",
    "\n",
    "# Ensure consistent line endings when writing\n",
    "with open('customer_data.txt', 'w', newline='') as f:\n",
    "    f.write(cobol_data)\n",
    "\n",
    "print(\"Created customer_data.txt:\")\n",
    "# Using ! prefix to execute shell command in Jupyter\n",
    "# Use !type on Windows cmd.exe, !cat on Linux/macOS/PowerShell\n",
    "!type customer_data.txt\n",
    "# !type customer_data.txt"
   ]
  },
  {
   "cell_type": "markdown",
   "metadata": {},
   "source": [
    "**Understanding the Data:**\n",
    "*   Columns 1-5: Customer ID (numeric)\n",
    "*   Columns 6-30: Customer Name (alphanumeric)\n",
    "*   Columns 31-40: Account Balance (signed numeric, 2 implied decimals, `S9(8)V99`). Sign might be trailing.\n",
    "*   Column 41: Status Code (alphanumeric)\n",
    "*   Column 42: Record Type (numeric)\n",
    "*   Total expected length should be 42 characters per line."
   ]
  },
  {
   "cell_type": "markdown",
   "metadata": {},
   "source": [
    "## Step 2: Define the Layout in JSON\n",
    "\n",
    "We need to tell `jsoncons` how to parse this data. We create a JSON layout file (`layout.json`) that describes each field.\n",
    "\n",
    "*   `name`: The desired key name in the output JSON.\n",
    "*   `start_pos`: The **1-based** starting column position in the COBOL data.\n",
    "*   `length`: The number of characters the field occupies.\n",
    "*   `type`: The COBOL picture clause (`PIC 9`, `PIC X`, `PIC S9`). `PIC S9` implies numeric handling potentially with sign.\n",
    "*   `strip`: (Optional, default `false`) If `true`, remove leading/trailing whitespace (useful for `PIC X`).\n",
    "*   `decimals`: (Optional, for `PIC 9` or `PIC S9`) Number of implied decimal places.\n",
    "*   `signed`: (Optional, relevant for `PIC S9`) Indicates if sign processing is needed.\n",
    "*   `record_length`: (Optional) The total expected length of a valid record line for validation."
   ]
  },
  {
   "cell_type": "code",
   "execution_count": null,
   "metadata": {},
   "outputs": [
    {
     "name": "stdout",
     "output_type": "stream",
     "text": [
      "Created layout.json:\n"
     ]
    },
    {
     "name": "stderr",
     "output_type": "stream",
     "text": [
      "'cat' is not recognized as an internal or external command,\n",
      "operable program or batch file.\n"
     ]
    }
   ],
   "source": [
    "layout_definition = '''\n",
    "{\n",
    "  \"description\": \"Simple Customer Record Layout\",\n",
    "  \"record_length\": 42,\n",
    "  \"fields\": [\n",
    "    {\n",
    "      \"name\": \"customer_id\",\n",
    "      \"start_pos\": 1,\n",
    "      \"length\": 5,\n",
    "      \"type\": \"PIC 9\"\n",
    "    },\n",
    "    {\n",
    "      \"name\": \"customer_name\",\n",
    "      \"start_pos\": 6,\n",
    "      \"length\": 25,\n",
    "      \"type\": \"PIC X\",\n",
    "      \"strip\": true\n",
    "    },\n",
    "    {\n",
    "      \"name\": \"account_balance\",\n",
    "      \"start_pos\": 31,\n",
    "      \"length\": 10,\n",
    "      \"type\": \"PIC S9\",\n",
    "      \"decimals\": 2,\n",
    "      \"signed\": true\n",
    "    },\n",
    "    {\n",
    "        \"name\": \"status_code\",\n",
    "        \"start_pos\": 41,\n",
    "        \"length\": 1,\n",
    "        \"type\": \"PIC X\"\n",
    "    },\n",
    "    {\n",
    "        \"name\": \"record_type\",\n",
    "        \"start_pos\": 42,\n",
    "        \"length\": 1,\n",
    "        \"type\": \"PIC 9\"\n",
    "    }\n",
    "  ]\n",
    "}\n",
    "'''\n",
    "\n",
    "with open('layout.json', 'w', encoding='utf-8') as f:\n",
    "    f.write(layout_definition)\n",
    "\n",
    "print(\"Created layout.json:\")\n",
    "# Using ! prefix to execute shell command in Jupyter\n",
    "# Use !type on Windows cmd.exe, !cat on Linux/macOS/PowerShell\n",
    "# !cat layout.json\n",
    " !type layout.json"
   ]
  },
  {
   "cell_type": "markdown",
   "metadata": {},
   "source": [
    "## Step 3: Run `jsoncons cobol_to_json`\n",
    "\n",
    "Now we use the command-line tool to perform the conversion. We provide the layout file, the input data file, and specify an output file (`output.json`)."
   ]
  },
  {
   "cell_type": "code",
   "execution_count": null,
   "metadata": {},
   "outputs": [],
   "source": [
    "# Run the jsoncons command\n",
    "# The '!' tells Jupyter to run this as a shell command\n",
    "!jsoncons cobol_to_json --layout-file layout.json customer_data.txt output.json"
   ]
  },
  {
   "cell_type": "markdown",
   "metadata": {},
   "source": [
    "## Step 4: Examine the JSON Output\n",
    "\n",
    "Let's check the contents of the generated `output.json` file."
   ]
  },
  {
   "cell_type": "code",
   "execution_count": null,
   "metadata": {},
   "outputs": [],
   "source": [
    "import json\n",
    "import os\n",
    "from pprint import pprint\n",
    "\n",
    "output_filename = 'output.json'\n",
    "\n",
    "if os.path.exists(output_filename):\n",
    "    with open(output_filename, 'r', encoding='utf-8') as f:\n",
    "        try:\n",
    "            # Use object_hook to potentially convert numeric strings back if desired\n",
    "            # For now, just load as is (Decimals were written as strings)\n",
    "            json_output = json.load(f)\n",
    "            print(f\"Successfully loaded JSON from {output_filename}:\")\n",
    "            pprint(json_output)\n",
    "        except json.JSONDecodeError as e:\n",
    "            print(f\"Error reading generated JSON: {e}\")\n",
    "            print(\"--- File Content --- \")\n",
    "            try:\n",
    "               with open(output_filename, 'r', encoding='utf-8') as f_raw:\n",
    "                  print(f_raw.read())\n",
    "            except Exception as read_err:\n",
    "                print(f\"Could not read raw file: {read_err}\")\n",
    "            print(\"-------------------\")\n",
    "else:\n",
    "    print(f\"Output file {output_filename} not found. Did the command run correctly?\")\n",
    "\n",
    "# Optional: Clean up generated files\n",
    "# try:\n",
    "#     os.remove('customer_data.txt')\n",
    "#     os.remove('layout.json')\n",
    "#     os.remove(output_filename)\n",
    "# except OSError as e:\n",
    "#     print(f\"Error cleaning up files: {e}\")"
   ]
  },
  {
   "cell_type": "markdown",
   "metadata": {},
   "source": [
    "**Observations:**\n",
    "*   The output is a JSON array (`[]`).\n",
    "*   Each element in the array is a JSON object (`{}`) representing one line (record) from the input file.\n",
    "*   The keys in the JSON objects match the `name` field from our `layout.json`.\n",
    "*   `PIC 9` fields were converted to integers.\n",
    "*   `PIC X` fields were converted to strings (with whitespace stripped for `customer_name` as specified).\n",
    "*   The `PIC S9` balance field was correctly converted to a numeric string, handling the implied decimal and the trailing sign.\n",
    "*   The conversion process successfully transformed the fixed-width data into a structured, usable JSON format."
   ]
  },
  {
   "cell_type": "markdown",
   "metadata": {},
   "source": [
    "## Conclusion\n",
    "\n",
    "The `jsoncons cobol_to_json` command provides a way to bridge legacy fixed-width data files (like those from COBOL systems) into modern JSON structures, facilitating data integration and analysis.\n",
    "\n",
    "By defining the record layout in a separate JSON file, the tool can parse and convert the data according to specified types, signs, and decimal positions.\n",
    "\n",
    "This example used simplified sign handling; real-world COBOL data might require more sophisticated parsing, potentially integrating dedicated COBOL parsing libraries for complex types like `COMP-3` or varied sign conventions."
   ]
  }
 ],
 "metadata": {
  "kernelspec": {
   "display_name": ".venv",
   "language": "python",
   "name": "python3"
  },
  "language_info": {
   "codemirror_mode": {
    "name": "ipython",
    "version": 3
   },
   "file_extension": ".py",
   "mimetype": "text/x-python",
   "name": "python",
   "nbconvert_exporter": "python",
   "pygments_lexer": "ipython3",
   "version": "3.12.2"
  }
 },
 "nbformat": 4,
 "nbformat_minor": 4
}
